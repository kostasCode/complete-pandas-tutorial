{
 "cells": [
  {
   "cell_type": "code",
   "execution_count": null,
   "id": "368cb530",
   "metadata": {
    "vscode": {
     "languageId": "plaintext"
    }
   },
   "outputs": [],
   "source": [
    "# yes\n"
   ]
  },
  {
   "cell_type": "code",
   "execution_count": null,
   "id": "c4043b79",
   "metadata": {
    "vscode": {
     "languageId": "plaintext"
    }
   },
   "outputs": [],
   "source": [
    "#second\n"
   ]
  }
 ],
 "metadata": {
  "language_info": {
   "name": "python"
  }
 },
 "nbformat": 4,
 "nbformat_minor": 5
}
